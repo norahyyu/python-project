{
 "cells": [
  {
   "cell_type": "markdown",
   "metadata": {},
   "source": [
    "# Risk Prediction for Home Equity Line of Credit (HELOC)\n",
    "\n",
    "## 1. introduction\n",
    "\n",
    "This project aims at developing a predictive model and a decision support system (DSS) that evaluates the risk of Home Equity Line of Credit (HELOC) applications. \n",
    "\n",
    "We are assigned with a real-world financial dataset from an anonymized credit bureau.The 23 predictor variables are either quantitative or categorical. The target variable that we are going to predict is a binary variable called RiskPerformance. The value “Bad” means that a consumer was 90 days past due or worse at least once over a period of 24 months from when the credit account was opened. The value “Good” indicates that they have made their payments without ever being more than 90 days overdue. "
   ]
  },
  {
   "cell_type": "markdown",
   "metadata": {},
   "source": [
    "#### Import library"
   ]
  },
  {
   "cell_type": "code",
   "execution_count": 1,
   "metadata": {},
   "outputs": [],
   "source": [
    "from sklearn.model_selection import train_test_split\n",
    "from sklearn.preprocessing import MinMaxScaler,StandardScaler\n",
    "from sklearn.model_selection import GridSearchCV\n",
    "from sklearn.svm import SVC\n",
    "import numpy as np\n",
    "import pandas as pd\n",
    "import warnings\n",
    "warnings.filterwarnings('ignore')\n",
    "from sklearn.preprocessing import Imputer"
   ]
  },
  {
   "cell_type": "markdown",
   "metadata": {},
   "source": [
    "#### Load dataset"
   ]
  },
  {
   "cell_type": "code",
   "execution_count": 2,
   "metadata": {},
   "outputs": [],
   "source": [
    "df = pd.read_csv('heloc_dataset_v1.csv')"
   ]
  },
  {
   "cell_type": "code",
   "execution_count": 3,
   "metadata": {},
   "outputs": [
    {
     "name": "stdout",
     "output_type": "stream",
     "text": [
      "<class 'pandas.core.frame.DataFrame'>\n",
      "RangeIndex: 10459 entries, 0 to 10458\n",
      "Data columns (total 24 columns):\n",
      "RiskPerformance                       10459 non-null object\n",
      "ExternalRiskEstimate                  10459 non-null int64\n",
      "MSinceOldestTradeOpen                 10459 non-null int64\n",
      "MSinceMostRecentTradeOpen             10459 non-null int64\n",
      "AverageMInFile                        10459 non-null int64\n",
      "NumSatisfactoryTrades                 10459 non-null int64\n",
      "NumTrades60Ever2DerogPubRec           10459 non-null int64\n",
      "NumTrades90Ever2DerogPubRec           10459 non-null int64\n",
      "PercentTradesNeverDelq                10459 non-null int64\n",
      "MSinceMostRecentDelq                  10459 non-null int64\n",
      "MaxDelq2PublicRecLast12M              10459 non-null int64\n",
      "MaxDelqEver                           10459 non-null int64\n",
      "NumTotalTrades                        10459 non-null int64\n",
      "NumTradesOpeninLast12M                10459 non-null int64\n",
      "PercentInstallTrades                  10459 non-null int64\n",
      "MSinceMostRecentInqexcl7days          10459 non-null int64\n",
      "NumInqLast6M                          10459 non-null int64\n",
      "NumInqLast6Mexcl7days                 10459 non-null int64\n",
      "NetFractionRevolvingBurden            10459 non-null int64\n",
      "NetFractionInstallBurden              10459 non-null int64\n",
      "NumRevolvingTradesWBalance            10459 non-null int64\n",
      "NumInstallTradesWBalance              10459 non-null int64\n",
      "NumBank2NatlTradesWHighUtilization    10459 non-null int64\n",
      "PercentTradesWBalance                 10459 non-null int64\n",
      "dtypes: int64(23), object(1)\n",
      "memory usage: 1.9+ MB\n"
     ]
    }
   ],
   "source": [
    "df.info()"
   ]
  },
  {
   "cell_type": "code",
   "execution_count": 4,
   "metadata": {},
   "outputs": [
    {
     "data": {
      "text/html": [
       "<div>\n",
       "<style scoped>\n",
       "    .dataframe tbody tr th:only-of-type {\n",
       "        vertical-align: middle;\n",
       "    }\n",
       "\n",
       "    .dataframe tbody tr th {\n",
       "        vertical-align: top;\n",
       "    }\n",
       "\n",
       "    .dataframe thead th {\n",
       "        text-align: right;\n",
       "    }\n",
       "</style>\n",
       "<table border=\"1\" class=\"dataframe\">\n",
       "  <thead>\n",
       "    <tr style=\"text-align: right;\">\n",
       "      <th></th>\n",
       "      <th>RiskPerformance</th>\n",
       "      <th>ExternalRiskEstimate</th>\n",
       "      <th>MSinceOldestTradeOpen</th>\n",
       "      <th>MSinceMostRecentTradeOpen</th>\n",
       "      <th>AverageMInFile</th>\n",
       "      <th>NumSatisfactoryTrades</th>\n",
       "      <th>NumTrades60Ever2DerogPubRec</th>\n",
       "      <th>NumTrades90Ever2DerogPubRec</th>\n",
       "      <th>PercentTradesNeverDelq</th>\n",
       "      <th>MSinceMostRecentDelq</th>\n",
       "      <th>...</th>\n",
       "      <th>PercentInstallTrades</th>\n",
       "      <th>MSinceMostRecentInqexcl7days</th>\n",
       "      <th>NumInqLast6M</th>\n",
       "      <th>NumInqLast6Mexcl7days</th>\n",
       "      <th>NetFractionRevolvingBurden</th>\n",
       "      <th>NetFractionInstallBurden</th>\n",
       "      <th>NumRevolvingTradesWBalance</th>\n",
       "      <th>NumInstallTradesWBalance</th>\n",
       "      <th>NumBank2NatlTradesWHighUtilization</th>\n",
       "      <th>PercentTradesWBalance</th>\n",
       "    </tr>\n",
       "  </thead>\n",
       "  <tbody>\n",
       "    <tr>\n",
       "      <th>0</th>\n",
       "      <td>Bad</td>\n",
       "      <td>55</td>\n",
       "      <td>144</td>\n",
       "      <td>4</td>\n",
       "      <td>84</td>\n",
       "      <td>20</td>\n",
       "      <td>3</td>\n",
       "      <td>0</td>\n",
       "      <td>83</td>\n",
       "      <td>2</td>\n",
       "      <td>...</td>\n",
       "      <td>43</td>\n",
       "      <td>0</td>\n",
       "      <td>0</td>\n",
       "      <td>0</td>\n",
       "      <td>33</td>\n",
       "      <td>-8</td>\n",
       "      <td>8</td>\n",
       "      <td>1</td>\n",
       "      <td>1</td>\n",
       "      <td>69</td>\n",
       "    </tr>\n",
       "    <tr>\n",
       "      <th>1</th>\n",
       "      <td>Bad</td>\n",
       "      <td>61</td>\n",
       "      <td>58</td>\n",
       "      <td>15</td>\n",
       "      <td>41</td>\n",
       "      <td>2</td>\n",
       "      <td>4</td>\n",
       "      <td>4</td>\n",
       "      <td>100</td>\n",
       "      <td>-7</td>\n",
       "      <td>...</td>\n",
       "      <td>67</td>\n",
       "      <td>0</td>\n",
       "      <td>0</td>\n",
       "      <td>0</td>\n",
       "      <td>0</td>\n",
       "      <td>-8</td>\n",
       "      <td>0</td>\n",
       "      <td>-8</td>\n",
       "      <td>-8</td>\n",
       "      <td>0</td>\n",
       "    </tr>\n",
       "    <tr>\n",
       "      <th>2</th>\n",
       "      <td>Bad</td>\n",
       "      <td>67</td>\n",
       "      <td>66</td>\n",
       "      <td>5</td>\n",
       "      <td>24</td>\n",
       "      <td>9</td>\n",
       "      <td>0</td>\n",
       "      <td>0</td>\n",
       "      <td>100</td>\n",
       "      <td>-7</td>\n",
       "      <td>...</td>\n",
       "      <td>44</td>\n",
       "      <td>0</td>\n",
       "      <td>4</td>\n",
       "      <td>4</td>\n",
       "      <td>53</td>\n",
       "      <td>66</td>\n",
       "      <td>4</td>\n",
       "      <td>2</td>\n",
       "      <td>1</td>\n",
       "      <td>86</td>\n",
       "    </tr>\n",
       "    <tr>\n",
       "      <th>3</th>\n",
       "      <td>Bad</td>\n",
       "      <td>66</td>\n",
       "      <td>169</td>\n",
       "      <td>1</td>\n",
       "      <td>73</td>\n",
       "      <td>28</td>\n",
       "      <td>1</td>\n",
       "      <td>1</td>\n",
       "      <td>93</td>\n",
       "      <td>76</td>\n",
       "      <td>...</td>\n",
       "      <td>57</td>\n",
       "      <td>0</td>\n",
       "      <td>5</td>\n",
       "      <td>4</td>\n",
       "      <td>72</td>\n",
       "      <td>83</td>\n",
       "      <td>6</td>\n",
       "      <td>4</td>\n",
       "      <td>3</td>\n",
       "      <td>91</td>\n",
       "    </tr>\n",
       "    <tr>\n",
       "      <th>4</th>\n",
       "      <td>Bad</td>\n",
       "      <td>81</td>\n",
       "      <td>333</td>\n",
       "      <td>27</td>\n",
       "      <td>132</td>\n",
       "      <td>12</td>\n",
       "      <td>0</td>\n",
       "      <td>0</td>\n",
       "      <td>100</td>\n",
       "      <td>-7</td>\n",
       "      <td>...</td>\n",
       "      <td>25</td>\n",
       "      <td>0</td>\n",
       "      <td>1</td>\n",
       "      <td>1</td>\n",
       "      <td>51</td>\n",
       "      <td>89</td>\n",
       "      <td>3</td>\n",
       "      <td>1</td>\n",
       "      <td>0</td>\n",
       "      <td>80</td>\n",
       "    </tr>\n",
       "  </tbody>\n",
       "</table>\n",
       "<p>5 rows × 24 columns</p>\n",
       "</div>"
      ],
      "text/plain": [
       "  RiskPerformance  ExternalRiskEstimate  MSinceOldestTradeOpen  \\\n",
       "0             Bad                    55                    144   \n",
       "1             Bad                    61                     58   \n",
       "2             Bad                    67                     66   \n",
       "3             Bad                    66                    169   \n",
       "4             Bad                    81                    333   \n",
       "\n",
       "   MSinceMostRecentTradeOpen  AverageMInFile  NumSatisfactoryTrades  \\\n",
       "0                          4              84                     20   \n",
       "1                         15              41                      2   \n",
       "2                          5              24                      9   \n",
       "3                          1              73                     28   \n",
       "4                         27             132                     12   \n",
       "\n",
       "   NumTrades60Ever2DerogPubRec  NumTrades90Ever2DerogPubRec  \\\n",
       "0                            3                            0   \n",
       "1                            4                            4   \n",
       "2                            0                            0   \n",
       "3                            1                            1   \n",
       "4                            0                            0   \n",
       "\n",
       "   PercentTradesNeverDelq  MSinceMostRecentDelq  ...  PercentInstallTrades  \\\n",
       "0                      83                     2  ...                    43   \n",
       "1                     100                    -7  ...                    67   \n",
       "2                     100                    -7  ...                    44   \n",
       "3                      93                    76  ...                    57   \n",
       "4                     100                    -7  ...                    25   \n",
       "\n",
       "   MSinceMostRecentInqexcl7days  NumInqLast6M  NumInqLast6Mexcl7days  \\\n",
       "0                             0             0                      0   \n",
       "1                             0             0                      0   \n",
       "2                             0             4                      4   \n",
       "3                             0             5                      4   \n",
       "4                             0             1                      1   \n",
       "\n",
       "   NetFractionRevolvingBurden  NetFractionInstallBurden  \\\n",
       "0                          33                        -8   \n",
       "1                           0                        -8   \n",
       "2                          53                        66   \n",
       "3                          72                        83   \n",
       "4                          51                        89   \n",
       "\n",
       "   NumRevolvingTradesWBalance  NumInstallTradesWBalance  \\\n",
       "0                           8                         1   \n",
       "1                           0                        -8   \n",
       "2                           4                         2   \n",
       "3                           6                         4   \n",
       "4                           3                         1   \n",
       "\n",
       "   NumBank2NatlTradesWHighUtilization  PercentTradesWBalance  \n",
       "0                                   1                     69  \n",
       "1                                  -8                      0  \n",
       "2                                   1                     86  \n",
       "3                                   3                     91  \n",
       "4                                   0                     80  \n",
       "\n",
       "[5 rows x 24 columns]"
      ]
     },
     "execution_count": 4,
     "metadata": {},
     "output_type": "execute_result"
    }
   ],
   "source": [
    "df.head()"
   ]
  },
  {
   "cell_type": "markdown",
   "metadata": {},
   "source": [
    "### 2. Data Preprocessing\n"
   ]
  },
  {
   "cell_type": "markdown",
   "metadata": {},
   "source": [
    "####  1) Checking and converting the data types\n",
    "\n"
   ]
  },
  {
   "cell_type": "markdown",
   "metadata": {},
   "source": [
    "The target to predict the risk is the RiskPerformance variable. The original data consists of two values: good and bad. RiskPeformance is factorized to 0 and 1. 0 represents bad and 1 represents good. \n",
    "\n",
    "For variables MaxDelq2PublicRecLast12M and MaxDelqEver, they are categorical variables that represent related records of max delinquency. These variables are converted into categorical variables to facilitate model building.  All other variables remain as numeric type."
   ]
  },
  {
   "cell_type": "code",
   "execution_count": 8,
   "metadata": {},
   "outputs": [],
   "source": [
    "categorical1 = pd.get_dummies(data_dict['data_original'][data_dict['features_colnames'][10]])\n",
    "categorical2 = pd.get_dummies(data_dict['data_original'][data_dict['features_colnames'][11]])\n",
    "categorical = pd.concat([categorical1,categorical2],axis = 1,ignore_index=True)\n"
   ]
  },
  {
   "cell_type": "markdown",
   "metadata": {},
   "source": [
    "#### 2) Dealing with special values\n",
    "Special values, i.e. -7, -8, -9, are changed according to their meaning. For -9, the original meaning is no bureau record or no investigation. 588 rows are all with -9 and there are only 10 rows with -9 in some of the features. Thus, records that contain -9 are changed as the missing value NaN and dropped. \n"
   ]
  },
  {
   "cell_type": "code",
   "execution_count": 9,
   "metadata": {},
   "outputs": [],
   "source": [
    "df = df.replace(-9,np.nan)\n",
    "df = df.dropna()"
   ]
  },
  {
   "cell_type": "code",
   "execution_count": 10,
   "metadata": {},
   "outputs": [
    {
     "data": {
      "text/plain": [
       "RiskPerformance                       0.0\n",
       "ExternalRiskEstimate                  0.0\n",
       "MSinceOldestTradeOpen                 0.0\n",
       "MSinceMostRecentTradeOpen             0.0\n",
       "AverageMInFile                        0.0\n",
       "NumSatisfactoryTrades                 0.0\n",
       "NumTrades60Ever2DerogPubRec           0.0\n",
       "NumTrades90Ever2DerogPubRec           0.0\n",
       "PercentTradesNeverDelq                0.0\n",
       "MSinceMostRecentDelq                  0.0\n",
       "MaxDelq2PublicRecLast12M              0.0\n",
       "MaxDelqEver                           0.0\n",
       "NumTotalTrades                        0.0\n",
       "NumTradesOpeninLast12M                0.0\n",
       "PercentInstallTrades                  0.0\n",
       "MSinceMostRecentInqexcl7days          0.0\n",
       "NumInqLast6M                          0.0\n",
       "NumInqLast6Mexcl7days                 0.0\n",
       "NetFractionRevolvingBurden            0.0\n",
       "NetFractionInstallBurden              0.0\n",
       "NumRevolvingTradesWBalance            0.0\n",
       "NumInstallTradesWBalance              0.0\n",
       "NumBank2NatlTradesWHighUtilization    0.0\n",
       "PercentTradesWBalance                 0.0\n",
       "dtype: float64"
      ]
     },
     "execution_count": 10,
     "metadata": {},
     "output_type": "execute_result"
    }
   ],
   "source": [
    "missing_frequency=df.isna().sum()/ len(df)\n",
    "missing_frequency"
   ]
  },
  {
   "cell_type": "markdown",
   "metadata": {},
   "source": [
    "For -7 and -8, the meaning is not the same as missing, but more as invalid values. Thus,-7 and -8 are replaced as the mode of a variable.\n"
   ]
  },
  {
   "cell_type": "code",
   "execution_count": 11,
   "metadata": {},
   "outputs": [],
   "source": [
    "df = df.replace(-8, np.nan)\n",
    "df = df.replace(-7, np.nan)\n",
    "\n",
    "imputer = Imputer(strategy=\"most_frequent\")\n",
    "for i in range(1,24):\n",
    "    df.iloc[:, [i]] = imputer.fit_transform(df.iloc[:, [i]])"
   ]
  },
  {
   "cell_type": "markdown",
   "metadata": {},
   "source": [
    "####  Visualization "
   ]
  },
  {
   "cell_type": "code",
   "execution_count": 14,
   "metadata": {},
   "outputs": [
    {
     "data": {
      "image/png": "[encoded data removed]",
      "text/plain": [
       "<Figure size 1440x1080 with 25 Axes>"
      ]
     },
     "metadata": {
      "needs_background": "light"
     },
     "output_type": "display_data"
    }
   ],
   "source": [
    "df.hist(bins=50, figsize=(20,15))\n",
    "pass\n"
   ]
  },
  {
   "cell_type": "markdown",
   "metadata": {},
   "source": [
    "\n",
    "A dictionary is built to store the original data, cleaned data, feature names, and factorized target value.  Such a dictionary can keep the data source, facilitate future data manipulation and avoid confusion of all predictors and target value.  "
   ]
  },
  {
   "cell_type": "code",
   "execution_count": 15,
   "metadata": {},
   "outputs": [],
   "source": [
    "data_dict = {}\n",
    "data_dict['data_original'] = df\n",
    "data_dict['features_colnames'] = df.columns\n",
    "data_dict['y'] = pd.factorize(df['RiskPerformance'])[0]\n",
    "\n",
    "categorical1 = pd.get_dummies(data_dict['data_original'][data_dict['features_colnames'][10]])\n",
    "categorical2 = pd.get_dummies(data_dict['data_original'][data_dict['features_colnames'][11]])\n",
    "categorical = pd.concat([categorical1,categorical2],axis = 1,ignore_index=True)\n",
    "\n",
    "numeric = pd.concat(([data_dict['data_original'][data_dict['features_colnames'][1:10]],data_dict['data_original'][data_dict['features_colnames'][12:24]]]),axis = 1,ignore_index=True)\n",
    "data_dict['X'] = pd.concat([categorical,numeric],axis = 1,ignore_index=True)"
   ]
  },
  {
   "cell_type": "code",
   "execution_count": 13,
   "metadata": {},
   "outputs": [],
   "source": []
  },
  {
   "cell_type": "markdown",
   "metadata": {},
   "source": [
    "### 3. Building and Tuning Models"
   ]
  },
  {
   "cell_type": "markdown",
   "metadata": {},
   "source": [
    "We use Standardscaler  to smooth the magnitude of different features. From the chart above, we could see some continuous features are between [0,800] while others [0,20]. By standardizing features,  their distributions are close to normal distribution. The machine learning models can benefit from the same scale. \n",
    "\n",
    "We chose five machine learning models to fit the data: Support Vector Machine (SVM), Logistic Regression (LR), K-Nearest Neighbors (KNN), Random Forest (RF), and Boosting.  \n"
   ]
  },
  {
   "cell_type": "code",
   "execution_count": 16,
   "metadata": {},
   "outputs": [],
   "source": [
    "\n",
    "from sklearn.linear_model import LogisticRegression\n",
    "from sklearn.discriminant_analysis import LinearDiscriminantAnalysis\n",
    "from sklearn.neighbors import KNeighborsClassifier\n",
    "from sklearn.naive_bayes import GaussianNB\n",
    "from sklearn.tree import DecisionTreeClassifier\n",
    "from sklearn.discriminant_analysis import QuadraticDiscriminantAnalysis\n",
    "from sklearn.ensemble import RandomForestClassifier, AdaBoostClassifier\n",
    "\n",
    "# 'model_names' contains the names  that we will use for the  classifiers\n",
    "model_names = ['SVM','LR','KNN','RF','Boosting']\n",
    "\n",
    "    \n",
    "# The function `init_classifiers` returns a list of classifiers to be trained on the datas\n",
    "def init_classifiers():\n",
    "    return([(SVC(), model_names[0], param_grid_svc), \n",
    "            (LogisticRegression(), model_names[1], param_grid_logistic),\n",
    "            (KNeighborsClassifier(), model_names[2], param_grid_knn),\n",
    "            (RandomForestClassifier(), model_names[3], param_grid_rf),\n",
    "            (AdaBoostClassifier(), model_names[4], param_grid_boost)\n",
    "           ])\n",
    "\n",
    "\n",
    "def evaluate_model(data_dict, model, model_name, params):\n",
    "    #split data\n",
    "    X = data_dict['X']\n",
    "    y = data_dict['y']\n",
    "    X_train, X_test, y_train, y_test = train_test_split(X, y, test_size=0.2, random_state=1)\n",
    "    \n",
    "    data_dict['X_train'] = X_train\n",
    "    data_dict['X_test'] = X_test\n",
    "    data_dict['y_train'] = y_train\n",
    "    data_dict['y_test'] = y_test\n",
    "    #scale data\n",
    "    scaler = MinMaxScaler()\n",
    "    X_train = scaler.fit_transform(X_train)\n",
    "    X_test = scaler.transform(X_test)\n",
    "    \n",
    "    grid_search = GridSearchCV(model, params, cv=3) \n",
    "    grid_search.fit(X_train,y_train)\n",
    "    \n",
    "    \n",
    "    model_selection = grid_search.best_estimator_ \n",
    "    predictions = model_selection.predict(X_test)\n",
    "\n",
    "    accuracy = (y_test==predictions).mean() \n",
    "    model_dic = {} \n",
    "    model_dic['Classifier'] = model_name \n",
    "    model_dic['Best Parameter'] = grid_search.best_estimator_.get_params()\n",
    "    model_dic['Test Score'] = accuracy \n",
    "    model_dic['CV Score'] = grid_search.best_score_ \n",
    "    \n",
    "    \n",
    "    \n",
    "    return model_dic\n",
    "\n",
    "\n",
    "\n",
    "# the training parameters of each model\n",
    "param_grid_svc = [{'C':[0.1,1],'kernel':['rbf','linear','poly'],'max_iter':[-1],'random_state':[1]}]\n",
    "param_grid_logistic = [{'C':[0.01,0.1,1], 'penalty':['l1','l2'],'random_state':[1]}]\n",
    "param_grid_knn = [{},{'n_neighbors':[1,2,3,4]}]\n",
    "param_grid_rf = [{'random_state':[1]},{'n_estimators':[50,100,150,200],'max_features':[0.2, 0.3, 0.5, 0.8], 'bootstrap':[True],'random_state':[1]}]\n",
    "param_grid_boost = [{'random_state':[1]},{'n_estimators':[50,100,150,200],'learning_rate':[0.1,1],'random_state':[1]}]"
   ]
  },
  {
   "cell_type": "code",
   "execution_count": 17,
   "metadata": {},
   "outputs": [
    {
     "data": {
      "text/html": [
       "<div>\n",
       "<style scoped>\n",
       "    .dataframe tbody tr th:only-of-type {\n",
       "        vertical-align: middle;\n",
       "    }\n",
       "\n",
       "    .dataframe tbody tr th {\n",
       "        vertical-align: top;\n",
       "    }\n",
       "\n",
       "    .dataframe thead th {\n",
       "        text-align: right;\n",
       "    }\n",
       "</style>\n",
       "<table border=\"1\" class=\"dataframe\">\n",
       "  <thead>\n",
       "    <tr style=\"text-align: right;\">\n",
       "      <th></th>\n",
       "      <th>Classifier</th>\n",
       "      <th>Best Parameter</th>\n",
       "      <th>Test Score</th>\n",
       "      <th>CV Score</th>\n",
       "    </tr>\n",
       "  </thead>\n",
       "  <tbody>\n",
       "    <tr>\n",
       "      <th>0</th>\n",
       "      <td>Boosting</td>\n",
       "      <td>{'algorithm': 'SAMME.R', 'base_estimator': Non...</td>\n",
       "      <td>0.721237</td>\n",
       "      <td>0.731491</td>\n",
       "    </tr>\n",
       "    <tr>\n",
       "      <th>1</th>\n",
       "      <td>KNN</td>\n",
       "      <td>{'algorithm': 'auto', 'leaf_size': 30, 'metric...</td>\n",
       "      <td>0.677648</td>\n",
       "      <td>0.690162</td>\n",
       "    </tr>\n",
       "    <tr>\n",
       "      <th>2</th>\n",
       "      <td>LR</td>\n",
       "      <td>{'C': 1, 'class_weight': None, 'dual': False, ...</td>\n",
       "      <td>0.714648</td>\n",
       "      <td>0.735421</td>\n",
       "    </tr>\n",
       "    <tr>\n",
       "      <th>3</th>\n",
       "      <td>RF</td>\n",
       "      <td>{'bootstrap': True, 'class_weight': None, 'cri...</td>\n",
       "      <td>0.721744</td>\n",
       "      <td>0.730984</td>\n",
       "    </tr>\n",
       "    <tr>\n",
       "      <th>4</th>\n",
       "      <td>SVM</td>\n",
       "      <td>{'C': 0.1, 'cache_size': 200, 'class_weight': ...</td>\n",
       "      <td>0.715661</td>\n",
       "      <td>0.735294</td>\n",
       "    </tr>\n",
       "  </tbody>\n",
       "</table>\n",
       "</div>"
      ],
      "text/plain": [
       "  Classifier                                     Best Parameter  Test Score  \\\n",
       "0   Boosting  {'algorithm': 'SAMME.R', 'base_estimator': Non...    0.721237   \n",
       "1        KNN  {'algorithm': 'auto', 'leaf_size': 30, 'metric...    0.677648   \n",
       "2         LR  {'C': 1, 'class_weight': None, 'dual': False, ...    0.714648   \n",
       "3         RF  {'bootstrap': True, 'class_weight': None, 'cri...    0.721744   \n",
       "4        SVM  {'C': 0.1, 'cache_size': 200, 'class_weight': ...    0.715661   \n",
       "\n",
       "   CV Score  \n",
       "0  0.731491  \n",
       "1  0.690162  \n",
       "2  0.735421  \n",
       "3  0.730984  \n",
       "4  0.735294  "
      ]
     },
     "execution_count": 17,
     "metadata": {},
     "output_type": "execute_result"
    }
   ],
   "source": [
    "res_list = []\n",
    "classifiers = init_classifiers()\n",
    "for i in range(len(classifiers)):\n",
    "    res_list.append(evaluate_model(data_dict, classifiers[i][0], classifiers[i][1], classifiers[i][2]))\n",
    "    \n",
    "df_model_comparison = pd.DataFrame(res_list, columns = ['Classifier','Best Parameter','Test Score','CV Score']).sort_values(by=['Classifier']).reset_index(drop=True)\n",
    "    \n",
    "    \n",
    "df_model_comparison"
   ]
  },
  {
   "cell_type": "markdown",
   "metadata": {
    "collapsed": true
   },
   "source": [
    "According to the model comparison output, we choose Random Forest as the best model, which has the highest test score of 0.721744 and CV score of 0.730984. The CV score is close to the test score, thus the model is robust.  "
   ]
  },
  {
   "cell_type": "code",
   "execution_count": 18,
   "metadata": {},
   "outputs": [
    {
     "data": {
      "text/plain": [
       "{'bootstrap': True,\n",
       " 'class_weight': None,\n",
       " 'criterion': 'gini',\n",
       " 'max_depth': None,\n",
       " 'max_features': 0.2,\n",
       " 'max_leaf_nodes': None,\n",
       " 'min_impurity_decrease': 0.0,\n",
       " 'min_impurity_split': None,\n",
       " 'min_samples_leaf': 1,\n",
       " 'min_samples_split': 2,\n",
       " 'min_weight_fraction_leaf': 0.0,\n",
       " 'n_estimators': 200,\n",
       " 'n_jobs': None,\n",
       " 'oob_score': False,\n",
       " 'random_state': 1,\n",
       " 'verbose': 0,\n",
       " 'warm_start': False}"
      ]
     },
     "execution_count": 18,
     "metadata": {},
     "output_type": "execute_result"
    }
   ],
   "source": [
    "rf_para = df_model_comparison.iloc[3,1]\n",
    "rf_para"
   ]
  },
  {
   "cell_type": "markdown",
   "metadata": {},
   "source": [
    "### 4. Interface preparation"
   ]
  },
  {
   "cell_type": "code",
   "execution_count": 19,
   "metadata": {},
   "outputs": [],
   "source": [
    "X = data_dict['X']\n",
    "y = data_dict['y']\n",
    "X_train, X_test, y_train, y_test = train_test_split(X, y, test_size=0.2, random_state=1)\n",
    "    \n",
    "data_dict['X_train'] = X_train\n",
    "data_dict['X_test'] = X_test\n",
    "data_dict['y_train'] = y_train\n",
    "data_dict['y_test'] = y_test"
   ]
  },
  {
   "cell_type": "code",
   "execution_count": 20,
   "metadata": {},
   "outputs": [],
   "source": [
    "import pickle\n",
    "from sklearn.pipeline import Pipeline"
   ]
  },
  {
   "cell_type": "code",
   "execution_count": 23,
   "metadata": {},
   "outputs": [
    {
     "data": {
      "text/plain": [
       "Pipeline(memory=None,\n",
       "         steps=[('minmax', MinMaxScaler(copy=True, feature_range=(0, 1))),\n",
       "                ('random forest',\n",
       "                 RandomForestClassifier(bootstrap=True, class_weight=None,\n",
       "                                        criterion='gini', max_depth=None,\n",
       "                                        max_features=0.2, max_leaf_nodes=None,\n",
       "                                        min_impurity_decrease=0.0,\n",
       "                                        min_impurity_split=None,\n",
       "                                        min_samples_leaf=1, min_samples_split=2,\n",
       "                                        min_weight_fraction_leaf=0.0,\n",
       "                                        n_estimators=100, n_jobs=None,\n",
       "                                        oob_score=False, random_state=1,\n",
       "                                        verbose=0, warm_start=False))],\n",
       "         verbose=False)"
      ]
     },
     "execution_count": 23,
     "metadata": {},
     "output_type": "execute_result"
    }
   ],
   "source": [
    "pipe_rf = Pipeline([('minmax', MinMaxScaler()), \n",
    "                    ('random forest', RandomForestClassifier(bootstrap = True,\n",
    "                                                             class_weight = None,\n",
    "                                                             criterion = 'gini',\n",
    "                                                             max_depth = None,\n",
    "                                                             max_features = 0.2,\n",
    "                                                             max_leaf_nodes = None,\n",
    "                                                             min_impurity_decrease = 0.0,\n",
    "                                                             min_impurity_split = None,\n",
    "                                                             min_samples_leaf = 1,\n",
    "                                                             min_samples_split = 2,\n",
    "                                                             min_weight_fraction_leaf = 0.0,\n",
    "                                                             n_estimators = 100,\n",
    "                                                             n_jobs = None,\n",
    "                                                             oob_score = False,\n",
    "                                                             random_state = 1,\n",
    "                                                             verbose = 0,\n",
    "                                                             warm_start = False))])\n",
    "\n",
    "pipe_rf.fit(X_train,y_train)\n"
   ]
  },
  {
   "cell_type": "code",
   "execution_count": 24,
   "metadata": {},
   "outputs": [],
   "source": [
    "pickle.dump(data_dict['X_train'], open(\"X_train.sav\", \"wb\"))\n",
    "pickle.dump(data_dict['X_test'], open(\"X_test.sav\", \"wb\"))\n",
    "pickle.dump(y_test, open(\"y_test.sav\", \"wb\"))\n",
    "pickle.dump(y_train, open(\"y_train.sav\", \"wb\"))\n",
    "pickle.dump(pipe_rf, open(\"pipe_rf.sav\", \"wb\"))\n"
   ]
  },
  {
   "cell_type": "code",
   "execution_count": null,
   "metadata": {},
   "outputs": [],
   "source": []
  }
 ],
 "metadata": {
  "kernelspec": {
   "display_name": "Python 3",
   "language": "python",
   "name": "python3"
  },
  "language_info": {
   "codemirror_mode": {
    "name": "ipython",
    "version": 3
   },
   "file_extension": ".py",
   "mimetype": "text/x-python",
   "name": "python",
   "nbconvert_exporter": "python",
   "pygments_lexer": "ipython3",
   "version": "3.7.3"
  },
  "toc": {
   "base_numbering": 1,
   "nav_menu": {},
   "number_sections": false,
   "sideBar": false,
   "skip_h1_title": false,
   "title_cell": "Table of Contents",
   "title_sidebar": "Contents",
   "toc_cell": false,
   "toc_position": {},
   "toc_section_display": false,
   "toc_window_display": false
  }
 },
 "nbformat": 4,
 "nbformat_minor": 2
}
